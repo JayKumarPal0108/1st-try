# Jay Kumar Pal 

# Task 1 :- Stock Market  Prediction 
### Take stock price of any company you want and predicts its price by using LSTM.
# Bharat Intern 

pip install pandas

import pandas as pd
df=pd.read_csv('AAPL.csv')
